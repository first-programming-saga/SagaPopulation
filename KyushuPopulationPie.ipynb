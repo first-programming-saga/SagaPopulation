{
  "cells": [
    {
      "metadata": {},
      "cell_type": "markdown",
      "source": [
        "# Excelデータから作図\n",
        "\n",
        "九州各県の人口推移をまとめたexcelから、作図"
      ]
    },
    {
      "metadata": {
        "trusted": true
      },
      "cell_type": "code",
      "source": [
        "import pandas\n",
        "import matplotlib.pyplot as plt\n",
        "import japanize_matplotlib"
      ],
      "execution_count": null,
      "outputs": []
    },
    {
      "metadata": {
        "trusted": true
      },
      "cell_type": "code",
      "source": [
        "filename = 'KyushuPopulation.xlsx'\n",
        "with pandas.ExcelFile(filename) as f:\n",
        "    df = pandas.read_excel(f)\n",
        "df.set_index('県', inplace = True) #左端のカラムにインデクスを設定\n",
        "   \n",
        "#図の準備\n",
        "year = [1995, 2015]\n",
        "size = 10\n",
        "xsize = size * len(year)\n",
        "fig, ax = plt.subplots(1, len(year), figsize=(xsize, size))\n",
        "plt.rcParams['font.size'] = 20\n",
        "plt.suptitle('九州の人口')\n",
        "#各県のデータをプロット\n",
        "for i in range(len(year)):\n",
        "    ser = df[year[i]]\n",
        "    ser.name = '' #Seriesの名前を消去：消さないと左に小さく表示されてしまう\n",
        "    ser.plot.pie(ax = ax[i], startangle = 90, counterclock = False,\n",
        "        autopct = '%1.2f%%', title = str(year[i]))\n",
        "plt.show()\n"
      ],
      "execution_count": null,
      "outputs": []
    },
    {
      "metadata": {
        "trusted": true
      },
      "cell_type": "code",
      "source": [],
      "execution_count": null,
      "outputs": []
    }
  ],
  "metadata": {
    "kernelspec": {
      "name": "python3",
      "display_name": "Python 3.9.1 64-bit",
      "metadata": {
        "interpreter": {
          "hash": "d1c9a4ba5c9c176023b797405478169ed7f0a7109b887eab21bda023c3c6f220"
        }
      }
    },
    "language_info": {
      "mimetype": "text/x-python",
      "nbconvert_exporter": "python",
      "name": "python",
      "pygments_lexer": "ipython3",
      "version": "3.9.1-final",
      "file_extension": ".py",
      "codemirror_mode": {
        "version": 3,
        "name": "ipython"
      }
    }
  },
  "nbformat": 4,
  "nbformat_minor": 2
}