{
  "cells": [
    {
      "cell_type": "markdown",
      "metadata": {},
      "source": [
        "# Excelデータから作図\n",
        "\n",
        "九州各県の人口推移をまとめたexcelから、作図"
      ]
    },
    {
      "cell_type": "code",
      "execution_count": null,
      "metadata": {
        "trusted": true
      },
      "outputs": [],
      "source": [
        "import pandas\n",
        "import matplotlib.pyplot as plt\n",
        "import japanize_matplotlib"
      ]
    },
    {
      "cell_type": "code",
      "execution_count": null,
      "metadata": {
        "trusted": true
      },
      "outputs": [],
      "source": [
        "filename = 'KyushuPopulation.xlsx'\n",
        "with pandas.ExcelFile(filename) as f:\n",
        "    df = pandas.read_excel(f)\n",
        "df.set_index('県', inplace = True) #左端のカラムにインデクスを設定\n",
        "   \n",
        "#図の準備\n",
        "year = [1995, 2015]\n",
        "size = 10\n",
        "xsize = size * len(year)\n",
        "fig, ax = plt.subplots(1, len(year), figsize=(xsize, size),\n",
        "        facecolor = 'w')\n",
        "plt.rcParams['font.size'] = 20\n",
        "plt.suptitle('九州の人口')\n",
        "#各県のデータをプロット\n",
        "for i in range(len(year)):\n",
        "    ser = df[year[i]]\n",
        "    ser.name = '' #Seriesの名前を消去：消さないと左に小さく表示されてしまう\n",
        "    ser.plot.pie(ax = ax[i], startangle = 90, counterclock = False,\n",
        "        autopct = '%1.2f%%', title = str(year[i]))\n",
        "\n",
        "plt.savefig('KyushuPopulationPie.pdf')\n",
        "plt.show()\n"
      ]
    },
    {
      "cell_type": "code",
      "execution_count": null,
      "metadata": {
        "trusted": true
      },
      "outputs": [],
      "source": []
    }
  ],
  "metadata": {
    "kernelspec": {
      "display_name": "Python 3.9.1 64-bit",
      "metadata": {
        "interpreter": {
          "hash": "d1c9a4ba5c9c176023b797405478169ed7f0a7109b887eab21bda023c3c6f220"
        }
      },
      "name": "python3"
    },
    "language_info": {
      "codemirror_mode": {
        "name": "ipython",
        "version": 3
      },
      "file_extension": ".py",
      "mimetype": "text/x-python",
      "name": "python",
      "nbconvert_exporter": "python",
      "pygments_lexer": "ipython3",
      "version": "3.9.7"
    }
  },
  "nbformat": 4,
  "nbformat_minor": 2
}
