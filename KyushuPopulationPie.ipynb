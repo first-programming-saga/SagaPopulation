{
  "cells": [
    {
      "metadata": {},
      "cell_type": "markdown",
      "source": "# Excelデータから作図\n\n九州各県の人口推移をまとめたexcelから、作図"
    },
    {
      "metadata": {
        "trusted": true
      },
      "cell_type": "code",
      "source": "import pandas\nimport matplotlib.pyplot as plt",
      "execution_count": null,
      "outputs": []
    },
    {
      "metadata": {
        "trusted": true
      },
      "cell_type": "code",
      "source": "filename = 'KyushuPopulation.xlsx'\nwith pandas.ExcelFile(filename) as f:\n    df = pandas.read_excel(f)\ndf.set_index('Prefecture',inplace=True)#左端のカラムにインデクスを設定\n   \n#図の準備\nyear = [1995,2015]\nxsize = 10*len(year)\nfig,ax = plt.subplots(1,len(year),figsize=(xsize,10))\nplt.rcParams['font.size']=12\nplt.suptitle('population in kyushu')\n#各県のデータをプロット\nfor i in range(len(year)):\n    ser = df[year[i]]\n    ser.plot.pie(ax=ax[i],startangle=90,counterclock=False,autopct='%1.2f%%')\nplt.show()",
      "execution_count": null,
      "outputs": []
    },
    {
      "metadata": {
        "trusted": true
      },
      "cell_type": "code",
      "source": "",
      "execution_count": null,
      "outputs": []
    }
  ],
  "metadata": {
    "kernelspec": {
      "name": "python36",
      "display_name": "Python 3.6",
      "language": "python"
    },
    "language_info": {
      "mimetype": "text/x-python",
      "nbconvert_exporter": "python",
      "name": "python",
      "pygments_lexer": "ipython3",
      "version": "3.6.6",
      "file_extension": ".py",
      "codemirror_mode": {
        "version": 3,
        "name": "ipython"
      }
    }
  },
  "nbformat": 4,
  "nbformat_minor": 2
}