{
  "cells": [
    {
      "attachments": {},
      "cell_type": "markdown",
      "metadata": {},
      "source": [
        "# 佐賀県の人口推移"
      ]
    },
    {
      "cell_type": "code",
      "execution_count": null,
      "metadata": {
        "trusted": true
      },
      "outputs": [],
      "source": [
        "import pandas\n",
        "import matplotlib.pyplot as plt\n",
        "import japanize_matplotlib"
      ]
    },
    {
      "cell_type": "code",
      "execution_count": null,
      "metadata": {},
      "outputs": [],
      "source": [
        "#url = 'http://data.bodik.jp/dataset/77e0cc66-c15d-4473-b3df-2664fe8e2e63/resource/8dc71515-526a-4168-866c-05d2cc8dad7b/download/jinkou.xlsx'\n",
        "url = 'jinkou.xlsx'"
      ]
    },
    {
      "cell_type": "code",
      "execution_count": null,
      "metadata": {
        "trusted": true
      },
      "outputs": [],
      "source": [
        "#エクセル中の和暦ラベルと西暦の対応付け\n",
        "wareki ={'大正9年':1920, '昭和5年':1930, '10年':1935, '15年':1940,\n",
        "        '20年':1945, '25年':1950, '30年':1955, '35年':1960,'40年':1965,\n",
        "        '45年':1970, '50年':1975, '55年':1980, '60年':1985, '平成2年':1990,\n",
        "        '7年':1995, '12年':2000, '17年':2005, '22年':2010, '27年':2015}"
      ]
    },
    {
      "cell_type": "code",
      "execution_count": null,
      "metadata": {},
      "outputs": [],
      "source": [
        "def getIndex(url:str)->dict[str,str]:\n",
        "    \"\"\"\n",
        "    URLで指定されたExcelで、V列に対応する適切な行名を取得する\n",
        "    \"\"\"\n",
        "    dd = pandas.read_excel(url, header = 3,  usecols = 'A:B,V',\n",
        "        index_col = 2, skiprows = [4, 18, 27], skipfooter = 8) \n",
        "    newIndex:dict[str,str] = dict()\n",
        "    for k in dd.index:\n",
        "        v = dd['項'][k]\n",
        "        if type(v) != str:\n",
        "            v = dd['目'][k]\n",
        "        newIndex[k] = v.strip()\n",
        "    return newIndex"
      ]
    },
    {
      "cell_type": "code",
      "execution_count": null,
      "metadata": {},
      "outputs": [],
      "source": [
        "def readData(url:str)->pandas.DataFrame:\n",
        "    \"\"\"\n",
        "    urlで指定されたExcelファイルを読む\n",
        "    \"\"\"\n",
        "    data = pandas.read_excel(url, header = 3, usecols = 'C:V',\n",
        "             index_col = 19, skiprows = [4, 18, 27], skipfooter = 8) \n",
        "    keys = getIndex(url)\n",
        "    return data.rename(columns = wareki, index = keys)"
      ]
    },
    {
      "cell_type": "code",
      "execution_count": null,
      "metadata": {
        "trusted": true
      },
      "outputs": [],
      "source": [
        "def plotSub(yearList:list[int], df:pandas.DataFrame,ax:plt.Axes):\n",
        "    \"\"\"\n",
        "    yearListで指定された年の棒グラフを描画\n",
        "    \"\"\"\n",
        "    #必要なデータに成形する：対象となる年のデータを取得し、1/1000にする\n",
        "    population :list[pandas.Series]= [\n",
        "        df.loc['0～14歳'].filter(yearList)/1000,\n",
        "        df.loc['15～64歳'].filter(yearList)/1000,\n",
        "        df.loc['65歳以上'].filter(yearList)/1000\n",
        "    ]\n",
        "    #積み上げの基点となるSeries\n",
        "    bottom = pandas.Series([0]*len(yearList), index = yearList)\n",
        "    color = ['g', 'y', 'r']\n",
        "    label = ['年少', '生産年齢', '老年']\n",
        "    for k in range(len(population)):\n",
        "        population[k].plot.bar(ax = ax, bottom = bottom, \n",
        "            tick_label = yearList, color = color[k], label = label[k])\n",
        "        bottom += population[k]\n"
      ]
    },
    {
      "attachments": {},
      "cell_type": "markdown",
      "metadata": {},
      "source": [
        "作図前処理"
      ]
    },
    {
      "cell_type": "code",
      "execution_count": null,
      "metadata": {
        "trusted": true
      },
      "outputs": [],
      "source": [
        "def prePlot()->plt.Axes:\n",
        "    fig, ax =plt.subplots(figsize = (15, 15), facecolor = 'white')\n",
        "    plt.rcParams[\"font.size\"] = 32\n",
        "    ax.set_title('佐賀県の人口 (国勢調査から)') #図タイトル\n",
        "    ax.set_xlabel('年')\n",
        "    ax.set_ylabel('人口 (千人)')\n",
        "    ax.set_ylim(0, 1200)\n",
        "    return ax"
      ]
    },
    {
      "attachments": {},
      "cell_type": "markdown",
      "metadata": {},
      "source": [
        "メイン"
      ]
    },
    {
      "cell_type": "code",
      "execution_count": null,
      "metadata": {
        "trusted": true
      },
      "outputs": [],
      "source": [
        "#Excelの内容をDataFrameへ\n",
        "data = readData(url)\n",
        "ax = prePlot()\n",
        "\n",
        "yearList = list()\n",
        "year = 1945\n",
        "while year < 2020:\n",
        "    yearList.append(year)\n",
        "    year += 10\n",
        "plotSub(yearList, data, ax)\n",
        "plt.legend(loc = 'best') #凡例\n",
        "\n",
        "plt.savefig('SagaPopulationStackedBar.pdf') #画像保存\n",
        "plt.show() #画像表示\n"
      ]
    },
    {
      "cell_type": "code",
      "execution_count": null,
      "metadata": {
        "trusted": true
      },
      "outputs": [],
      "source": []
    }
  ],
  "metadata": {
    "interpreter": {
      "hash": "8eac0b877443e672c512fc10f9a40a6551a41731384696f22385f08b2b6c8da7"
    },
    "kernelspec": {
      "display_name": "Python 3.9.4 64-bit ('3.9.4': pyenv)",
      "name": "python3"
    },
    "language_info": {
      "codemirror_mode": {
        "name": "ipython",
        "version": 3
      },
      "file_extension": ".py",
      "mimetype": "text/x-python",
      "name": "python",
      "nbconvert_exporter": "python",
      "pygments_lexer": "ipython3",
      "version": "3.10.8"
    },
    "metadata": {
      "interpreter": {
        "hash": "8eac0b877443e672c512fc10f9a40a6551a41731384696f22385f08b2b6c8da7"
      }
    }
  },
  "nbformat": 4,
  "nbformat_minor": 2
}
