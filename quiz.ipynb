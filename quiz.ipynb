{
  "cells": [
    {
      "attachments": {},
      "cell_type": "markdown",
      "metadata": {},
      "source": [
        "# 確認テスト\n",
        "\n",
        "九州各県の人口推移をまとめたexcelから、九州各県の人口比の時系列を作図"
      ]
    },
    {
      "cell_type": "code",
      "execution_count": null,
      "metadata": {
        "trusted": true
      },
      "outputs": [],
      "source": [
        "import pandas\n",
        "import matplotlib.pyplot as plt\n",
        "import japanize_matplotlib"
      ]
    },
    {
      "attachments": {},
      "cell_type": "markdown",
      "metadata": {},
      "source": [
        "各県の曲線の色を指定"
      ]
    },
    {
      "cell_type": "code",
      "execution_count": null,
      "metadata": {},
      "outputs": [],
      "source": [
        "colors ={\n",
        "    '福岡':'darkred',\n",
        "    '佐賀':'green',\n",
        "    '長崎':'blue',\n",
        "    '大分':'purple',\n",
        "    '熊本':'orangered',\n",
        "    '宮崎':'red',\n",
        "    '鹿児島':'darkblue',\n",
        "    '九州全体': 'gray'\n",
        "}"
      ]
    },
    {
      "attachments": {},
      "cell_type": "markdown",
      "metadata": {},
      "source": [
        "各県の人口推移をプロットする関数"
      ]
    },
    {
      "cell_type": "code",
      "execution_count": null,
      "metadata": {
        "trusted": true
      },
      "outputs": [],
      "source": [
        "def drawTimeSequence(df :pandas.DataFrame, ax:plt.Axes): #dataFrameを受け取る\n",
        "    total = df.loc['九州全体']\n",
        "    for pref in df.index: #各行にある県名を取得\n",
        "        if pref != '九州全体':\n",
        "            #一行のデータ（時系列）を取得\n",
        "            \n",
        "            #一行のデータをプロットし、ラベルとして県名を設定\n"
      ]
    },
    {
      "attachments": {},
      "cell_type": "markdown",
      "metadata": {},
      "source": [
        "作図全体の関数"
      ]
    },
    {
      "cell_type": "code",
      "execution_count": null,
      "metadata": {},
      "outputs": [],
      "source": [
        "def drawData(df: pandas.DataFrame):\n",
        "    #図の準備\n",
        "    fig, ax = plt.subplots(facecolor = 'white')\n",
        "    ax.set_title('九州各県の人口割合')\n",
        "    ax.set_xlabel('年')\n",
        "    ax.set_ylabel('人口割合')\n",
        "    #各県のデータをプロット\n",
        "    drawTimeSequence(df, ax)\n",
        "\n",
        "    plt.legend()\n",
        "    plt.savefig('quiz.pdf')\n",
        "    plt.show()"
      ]
    },
    {
      "attachments": {},
      "cell_type": "markdown",
      "metadata": {},
      "source": [
        "九州の人口の総和を求めて、dataFrameに追記する"
      ]
    },
    {
      "cell_type": "code",
      "execution_count": null,
      "metadata": {},
      "outputs": [],
      "source": [
        "def totalPopulation(df: pandas.DataFrame):\n",
        "    total:pandas.Series = df.sum(axis = 'index')\n",
        "    df.loc['九州全体'] = total"
      ]
    },
    {
      "cell_type": "code",
      "execution_count": null,
      "metadata": {
        "trusted": true
      },
      "outputs": [],
      "source": [
        "filename = 'KyushuPopulation.xlsx'\n",
        "with pandas.ExcelFile(filename) as f:\n",
        "    df = pandas.read_excel(f)\n",
        "df.set_index('県', inplace = True) #左端のカラムにインデクスを設定\n",
        "totalPopulation(df)   \n",
        "drawData(df)\n"
      ]
    }
  ],
  "metadata": {
    "kernelspec": {
      "display_name": "myenv",
      "language": "python",
      "name": "python3"
    },
    "language_info": {
      "codemirror_mode": {
        "name": "ipython",
        "version": 3
      },
      "file_extension": ".py",
      "mimetype": "text/x-python",
      "name": "python",
      "nbconvert_exporter": "python",
      "pygments_lexer": "ipython3",
      "version": "3.10.8"
    },
    "vscode": {
      "interpreter": {
        "hash": "b3b804b6b7a7d9b475cf928428dd1242016eacc24c47853aaf0f8d1d2228aa39"
      }
    }
  },
  "nbformat": 4,
  "nbformat_minor": 2
}
