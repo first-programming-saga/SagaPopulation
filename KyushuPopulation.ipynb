{
  "cells": [
    {
      "metadata": {},
      "cell_type": "markdown",
      "source": [
        "# Excelデータから作図\n",
        "\n",
        "九州各県の人口推移をまとめたexcelから、作図"
      ]
    },
    {
      "metadata": {
        "trusted": true
      },
      "cell_type": "code",
      "source": [
        "import pandas\n",
        "import matplotlib.pyplot as plt\n",
        "import japanize_matplotlib"
      ],
      "execution_count": null,
      "outputs": []
    },
    {
      "source": [
        "各県の曲線の色を指定"
      ],
      "cell_type": "markdown",
      "metadata": {}
    },
    {
      "cell_type": "code",
      "execution_count": null,
      "metadata": {},
      "outputs": [],
      "source": [
        "colors={\n",
        "    '福岡':'darkred',\n",
        "    '佐賀':'green',\n",
        "    '長崎':'blue',\n",
        "    '大分':'purple',\n",
        "    '熊本':'orangered',\n",
        "    '宮崎':'red',\n",
        "    '鹿児島':'darkblue',\n",
        "    '九州全体': 'gray'\n",
        "}"
      ]
    },
    {
      "metadata": {},
      "cell_type": "markdown",
      "source": [
        "各県の人口推移をプロットする関数"
      ]
    },
    {
      "metadata": {
        "trusted": true
      },
      "cell_type": "code",
      "source": [
        "def drawTimeSequence(df): #dataFrameを受け取る\n",
        "    for pref in df.index: #各行にある県名を取得\n",
        "        ser = df.loc[pref] #一行のデータ（時系列）を取得\n",
        "        #一行のデータをプロットし、ラベルとして県名を設定\n",
        "        ser.plot(label = pref, color = colors[pref])"
      ],
      "execution_count": null,
      "outputs": []
    },
    {
      "source": [
        "九州の人口の総和を求めて、dataFrameに追記する"
      ],
      "cell_type": "markdown",
      "metadata": {}
    },
    {
      "cell_type": "code",
      "execution_count": null,
      "metadata": {},
      "outputs": [],
      "source": [
        "def totalPopulation(df):\n",
        "    total = df.sum(axis = 'index')\n",
        "    df.loc['九州全体'] = total"
      ]
    },
    {
      "metadata": {
        "trusted": true
      },
      "cell_type": "code",
      "source": [
        "filename = 'KyushuPopulation.xlsx'\n",
        "with pandas.ExcelFile(filename) as f:\n",
        "    df = pandas.read_excel(f)\n",
        "df.set_index('県', inplace = True) #左端のカラムにインデクスを設定\n",
        "#totalPopulation(df)   \n",
        "#図の準備\n",
        "plt.figure(figsize = (15, 15))\n",
        "plt.rcParams['font.size'] = 20\n",
        "plt.title('九州の人口')\n",
        "plt.xlabel('年')\n",
        "plt.ylabel('人口($\\\\times1,000$)')\n",
        "#各県のデータをプロット\n",
        "drawTimeSequence(df)\n",
        "\n",
        "plt.legend()\n",
        "plt.show()"
      ],
      "execution_count": null,
      "outputs": []
    },
    {
      "cell_type": "code",
      "execution_count": null,
      "metadata": {},
      "outputs": [],
      "source": []
    }
  ],
  "metadata": {
    "kernelspec": {
      "name": "python3",
      "display_name": "Python 3.9.1 64-bit",
      "metadata": {
        "interpreter": {
          "hash": "d1c9a4ba5c9c176023b797405478169ed7f0a7109b887eab21bda023c3c6f220"
        }
      }
    },
    "language_info": {
      "mimetype": "text/x-python",
      "nbconvert_exporter": "python",
      "name": "python",
      "pygments_lexer": "ipython3",
      "version": "3.9.1-final",
      "file_extension": ".py",
      "codemirror_mode": {
        "version": 3,
        "name": "ipython"
      }
    }
  },
  "nbformat": 4,
  "nbformat_minor": 2
}