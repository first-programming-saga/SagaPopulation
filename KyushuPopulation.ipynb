{
  "cells": [
    {
      "attachments": {},
      "cell_type": "markdown",
      "metadata": {},
      "source": [
        "# Excelデータから作図\n",
        "\n",
        "九州各県の人口推移をまとめたexcelから、作図"
      ]
    },
    {
      "cell_type": "code",
      "execution_count": null,
      "metadata": {
        "trusted": true
      },
      "outputs": [],
      "source": [
        "import pandas\n",
        "import matplotlib.pyplot as plt\n",
        "import matplotlib.axes as axes\n",
        "import japanize_matplotlib"
      ]
    },
    {
      "attachments": {},
      "cell_type": "markdown",
      "metadata": {},
      "source": [
        "各県の曲線の色を指定"
      ]
    },
    {
      "cell_type": "code",
      "execution_count": null,
      "metadata": {},
      "outputs": [],
      "source": [
        "colors: dict[str, str] ={\n",
        "    '福岡':'darkred',\n",
        "    '佐賀':'green',\n",
        "    '長崎':'blue',\n",
        "    '大分':'purple',\n",
        "    '熊本':'orangered',\n",
        "    '宮崎':'red',\n",
        "    '鹿児島':'darkblue',\n",
        "    '九州全体': 'gray'\n",
        "}"
      ]
    },
    {
      "attachments": {},
      "cell_type": "markdown",
      "metadata": {},
      "source": [
        "各県の人口推移をプロットする関数"
      ]
    },
    {
      "cell_type": "code",
      "execution_count": null,
      "metadata": {
        "trusted": true
      },
      "outputs": [],
      "source": [
        "def drawTimeSequence(df :pandas.DataFrame, ax:axes.Axes): #dataFrameを受け取る\n",
        "    for pref in df.index: #各行にある県名を取得\n",
        "        ser:pandas.Series = df.loc[pref]  #一行のデータ（時系列）を取得\n",
        "        #一行のデータをプロットし、ラベルとして県名を設定\n",
        "        ser.plot(ax = ax,label = pref, color = colors[pref])"
      ]
    },
    {
      "attachments": {},
      "cell_type": "markdown",
      "metadata": {},
      "source": [
        "作図全体の関数"
      ]
    },
    {
      "cell_type": "code",
      "execution_count": null,
      "metadata": {},
      "outputs": [],
      "source": [
        "def drawData(df: pandas.DataFrame):\n",
        "    #図の準備\n",
        "    fig, ax = plt.subplots(facecolor = 'white')\n",
        "    ax.set_title('九州の人口')\n",
        "    ax.set_xlabel('年')\n",
        "    ax.set_ylabel(r'人口($\\times1,000$)')\n",
        "    #各県のデータをプロット\n",
        "    drawTimeSequence(df, ax)\n",
        "\n",
        "    fig.legend()\n",
        "    plt.show()"
      ]
    },
    {
      "attachments": {},
      "cell_type": "markdown",
      "metadata": {},
      "source": [
        "九州の人口の総和を求めて、dataFrameに追記する"
      ]
    },
    {
      "cell_type": "code",
      "execution_count": null,
      "metadata": {},
      "outputs": [],
      "source": [
        "def totalPopulation(df: pandas.DataFrame):\n",
        "    total:pandas.Series = df.sum(axis = 'index')\n",
        "    df.loc['九州全体'] = total"
      ]
    },
    {
      "cell_type": "code",
      "execution_count": null,
      "metadata": {
        "trusted": true
      },
      "outputs": [],
      "source": [
        "filename = 'KyushuPopulation.xlsx'\n",
        "with pandas.ExcelFile(filename) as f:\n",
        "    df = pandas.read_excel(f)\n",
        "df.set_index('県', inplace = True) #左端のカラムにインデクスを設定\n",
        "totalPopulation(df)   \n",
        "drawData(df)\n"
      ]
    },
    {
      "cell_type": "markdown",
      "metadata": {},
      "source": [
        "## 課題\n",
        "- 九州全体の時系列が表示されないようにする\n",
        "- 各県の九州全体に対する割合をプロットする"
      ]
    }
  ],
  "metadata": {
    "kernelspec": {
      "display_name": "myenv",
      "language": "python",
      "name": "python3"
    },
    "language_info": {
      "codemirror_mode": {
        "name": "ipython",
        "version": 3
      },
      "file_extension": ".py",
      "mimetype": "text/x-python",
      "name": "python",
      "nbconvert_exporter": "python",
      "pygments_lexer": "ipython3",
      "version": "3.12.2"
    },
    "vscode": {
      "interpreter": {
        "hash": "b3b804b6b7a7d9b475cf928428dd1242016eacc24c47853aaf0f8d1d2228aa39"
      }
    }
  },
  "nbformat": 4,
  "nbformat_minor": 2
}
