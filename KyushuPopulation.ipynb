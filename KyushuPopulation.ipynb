{
  "cells": [
    {
      "metadata": {},
      "cell_type": "markdown",
      "source": "# Excelデータから作図\n\n九州各県の人口推移をまとめたexcelから、作図"
    },
    {
      "metadata": {
        "trusted": true
      },
      "cell_type": "code",
      "source": "import pandas\nimport matplotlib.pyplot as plt",
      "execution_count": null,
      "outputs": []
    },
    {
      "metadata": {},
      "cell_type": "markdown",
      "source": "各県の人口推移をプロットする関数"
    },
    {
      "metadata": {
        "trusted": true
      },
      "cell_type": "code",
      "source": "def drawTimeSequence(df):#dataFrameを受け取る\n    for pref in df.index:#各行にある県名を取得\n        ser = df.loc[pref]#一行のデータ（時系列）を取得\n        #一行のデータをプロットし、ラベルとして県名を設定\n        #plt.plot(ser,label=pref)\n        ser.plot(label=pref)",
      "execution_count": null,
      "outputs": []
    },
    {
      "metadata": {
        "trusted": true
      },
      "cell_type": "code",
      "source": "filename = 'KyushuPopulation.xlsx'\nwith pandas.ExcelFile(filename) as f:\n    df = pandas.read_excel(f)\ndf.set_index('Prefecture',inplace=True)#左端のカラムにインデクスを設定\n   \n#図の準備\nplt.figure(figsize=(10,10))\nplt.title('population in kyushu')\nplt.ylim(0,6000)\n#各県のデータをプロット\ndrawTimeSequence(df)\n\nplt.legend()\nplt.show()",
      "execution_count": null,
      "outputs": []
    }
  ],
  "metadata": {
    "kernelspec": {
      "name": "python36",
      "display_name": "Python 3.6",
      "language": "python"
    },
    "language_info": {
      "mimetype": "text/x-python",
      "nbconvert_exporter": "python",
      "name": "python",
      "pygments_lexer": "ipython3",
      "version": "3.6.6",
      "file_extension": ".py",
      "codemirror_mode": {
        "version": 3,
        "name": "ipython"
      }
    }
  },
  "nbformat": 4,
  "nbformat_minor": 2
}