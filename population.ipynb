{
  "cells": [
    {
      "metadata": {},
      "cell_type": "markdown",
      "source": "# 佐賀県の人口推移"
    },
    {
      "metadata": {
        "trusted": true
      },
      "cell_type": "code",
      "source": "import pandas\nimport requests\nimport io\nimport matplotlib.pyplot as plt",
      "execution_count": null,
      "outputs": []
    },
    {
      "metadata": {
        "trusted": true
      },
      "cell_type": "code",
      "source": "#エクセル中の和暦ラベルと西暦の対応付け\nwareki={'大正9年':1920, '昭和5年':1930, '10年':1935, '15年':1940,\n        '20年':1945, '25年':1950, '30年':1955, '35年':1960,'40年':1965,\n        '45年':1970, '50年':1975, '55年':1980, '60年':1985, '平成2年':1990,\n        '7年':1995, '12年':2000, '17年':2005, '22年':2010,'27年':2014}",
      "execution_count": null,
      "outputs": []
    },
    {
      "metadata": {},
      "cell_type": "markdown",
      "source": "df中の指定された行のSeriesをプロット"
    },
    {
      "metadata": {
        "trusted": true
      },
      "cell_type": "code",
      "source": "def plotSub(pList,df):\n    for loc,label in pList:\n        ser=evalPop(df,loc)\n        ser.plot(label=label)",
      "execution_count": null,
      "outputs": []
    },
    {
      "metadata": {},
      "cell_type": "markdown",
      "source": "人口推移をSeriesとして返す\n\n- 人口を千人単位に変更\n- 和暦を西暦に変更"
    },
    {
      "metadata": {
        "trusted": true
      },
      "cell_type": "code",
      "source": "def evalPop(data,serName):\n    vList,yList=[],[]\n    for k in wareki.keys():\n        p = data[k][serName]/1000.\n        y = wareki[k]#和暦から西暦へ\n        vList.append(p)\n        yList.append(y)\n    return pandas.Series(vList,index = yList)",
      "execution_count": null,
      "outputs": []
    },
    {
      "metadata": {},
      "cell_type": "markdown",
      "source": "作図前処理"
    },
    {
      "metadata": {
        "trusted": true
      },
      "cell_type": "code",
      "source": "def prePlot():\n    plt.figure(figsize=(10,10))\n    plt.title('Population in Saga (from National Census)')#図タイトル\n    plt.xlabel('year')\n    plt.ylabel('population (thousand)')",
      "execution_count": null,
      "outputs": []
    },
    {
      "metadata": {},
      "cell_type": "markdown",
      "source": "作図後処理：作図情報などを表示"
    },
    {
      "metadata": {
        "trusted": true
      },
      "cell_type": "code",
      "source": "def postPlot(labelList=[]):#引数を省略すると空リスト\n    #図の書式など\n    plt.legend(loc='best')#凡例\n    for x,y,label in labelList:\n        plt.text(x,y,label,horizontalalignment='center')",
      "execution_count": null,
      "outputs": []
    },
    {
      "metadata": {},
      "cell_type": "markdown",
      "source": "メイン"
    },
    {
      "metadata": {
        "trusted": true
      },
      "cell_type": "code",
      "source": "url = 'http://data.bodik.jp/dataset/'\\\n       '77e0cc66-c15d-4473-b3df-2664fe8e2e63/resource/'\\\n       '8dc71515-526a-4168-866c-05d2cc8dad7b/download/jinkou.xlsx'\n\ndata = pandas.read_excel(url,header=3)#Excelの内容をDataFrameへ\n\nprePlot():\n\npList=[(2,'Total'),(3,'Cities'),(4,'Counties')]\nplotSub(pList,data)\nlabelList=[(1953,400,'1953'),(2005,600,'2005')]\n\npostPlot(labelList)\n\nplt.savefig('output.png')#画像保存\nplt.show()#画像表示",
      "execution_count": null,
      "outputs": []
    },
    {
      "metadata": {
        "trusted": true
      },
      "cell_type": "code",
      "source": "",
      "execution_count": null,
      "outputs": []
    }
  ],
  "metadata": {
    "kernelspec": {
      "name": "python36",
      "display_name": "Python 3.6",
      "language": "python"
    },
    "language_info": {
      "mimetype": "text/x-python",
      "nbconvert_exporter": "python",
      "name": "python",
      "pygments_lexer": "ipython3",
      "version": "3.6.6",
      "file_extension": ".py",
      "codemirror_mode": {
        "version": 3,
        "name": "ipython"
      }
    }
  },
  "nbformat": 4,
  "nbformat_minor": 2
}