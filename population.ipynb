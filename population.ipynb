{
  "cells": [
    {
      "attachments": {},
      "cell_type": "markdown",
      "metadata": {},
      "source": [
        "# 佐賀県の人口推移"
      ]
    },
    {
      "cell_type": "code",
      "execution_count": null,
      "metadata": {
        "trusted": true
      },
      "outputs": [],
      "source": [
        "import pandas\n",
        "import matplotlib.pyplot as plt\n",
        "import re\n",
        "import japanize_matplotlib"
      ]
    },
    {
      "cell_type": "code",
      "execution_count": null,
      "metadata": {},
      "outputs": [],
      "source": [
        "#url = 'http://data.bodik.jp/dataset/77e0cc66-c15d-4473-b3df-2664fe8e2e63/resource/8dc71515-526a-4168-866c-05d2cc8dad7b/download/jinkou.xlsx'\n",
        "url = 'jinkou.xlsx'"
      ]
    },
    {
      "cell_type": "code",
      "execution_count": null,
      "metadata": {
        "trusted": true
      },
      "outputs": [],
      "source": [
        "#エクセル中の和暦ラベルと西暦の対応付け\n",
        "# wareki ={'大正9年':1920, '昭和5年':1930, '10年':1935, '15年':1940,\n",
        "#         '20年':1945, '25年':1950, '30年':1955, '35年':1960,'40年':1965,\n",
        "#         '45年':1970, '50年':1975, '55年':1980, '60年':1985, '平成2年':1990,\n",
        "#         '7年':1995, '12年':2000, '17年':2005, '22年':2010, '27年':2015}\n",
        "def convertWareki(columns:pandas.Index) -> dict[str,int]:\n",
        "    y = 1930\n",
        "    wareki:dict[str,int] = dict()\n",
        "    for k in columns:\n",
        "        if k == '大正9年':\n",
        "            wareki[k]=1920\n",
        "        else:\n",
        "            wareki[k]=y\n",
        "            y+=5\n",
        "    return wareki"
      ]
    },
    {
      "cell_type": "code",
      "execution_count": null,
      "metadata": {},
      "outputs": [],
      "source": [
        "def getIndex(url:str)->dict[str,str]:\n",
        "    \"\"\"\n",
        "    URLで指定されたExcelで、V列に対応する適切な行名を取得する\n",
        "    \"\"\"\n",
        "    dd = pandas.read_excel(url, header = 3,  usecols = 'A:B,V',\n",
        "        index_col = 2, skiprows = [4, 18, 27], skipfooter = 8) \n",
        "    newIndex : dict[str,str]= dict()\n",
        "    for k in dd.index:\n",
        "        v = dd['項'][k]\n",
        "        if type(v) != str:\n",
        "            v = dd['目'][k]\n",
        "        vStr:str= re.sub(r'\\s','',str(v))\n",
        "        newIndex[k] = vStr.strip()\n",
        "    return newIndex"
      ]
    },
    {
      "cell_type": "code",
      "execution_count": null,
      "metadata": {},
      "outputs": [],
      "source": [
        "def readData(url:str)->pandas.DataFrame:\n",
        "    \"\"\"\n",
        "    urlで指定されたExcelファイルを読む\n",
        "    \"\"\"\n",
        "    data = pandas.read_excel(url, header = 3, usecols = 'C:V',\n",
        "             index_col = 19, skiprows = [4, 18, 27], skipfooter = 8) \n",
        "    keys = getIndex(url)\n",
        "    wareki = convertWareki(data.columns)\n",
        "    return data.rename(columns = wareki, index = keys)"
      ]
    },
    {
      "attachments": {},
      "cell_type": "markdown",
      "metadata": {},
      "source": [
        "メイン"
      ]
    },
    {
      "cell_type": "code",
      "execution_count": null,
      "metadata": {
        "trusted": true
      },
      "outputs": [],
      "source": [
        "#Excelの内容をDataFrameへ\n",
        "data:pandas.DataFrame = readData(url)\n",
        "# 作図の準備\n",
        "fig,ax=plt.subplots(facecolor='white')\n",
        "ax.set_title('佐賀県の人口 (国勢調査から)') #図タイトル\n",
        "ax.set_xlabel('年')\n",
        "ax.set_ylabel('人口 (千人)')\n",
        "\n",
        "#表示する項目[(列の名前,ラベル)]\n",
        "plotList =['佐賀県', '市部', '郡部']\n",
        "for label in plotList:\n",
        "    ser :pandas.Series = data.loc[label]/1000\n",
        "    ser.plot(ax = ax, label = label, linewidth =1)\n",
        "fig.legend(loc = 'best') #凡例\n",
        "\n",
        "fig.savefig('SagaPopulation.pdf') #画像保存\n",
        "plt.show() #画像表示"
      ]
    }
  ],
  "metadata": {
    "kernelspec": {
      "display_name": "myenv",
      "language": "python",
      "name": "python3"
    },
    "language_info": {
      "codemirror_mode": {
        "name": "ipython",
        "version": 3
      },
      "file_extension": ".py",
      "mimetype": "text/x-python",
      "name": "python",
      "nbconvert_exporter": "python",
      "pygments_lexer": "ipython3",
      "version": "3.11.6"
    },
    "metadata": {
      "interpreter": {
        "hash": "8eac0b877443e672c512fc10f9a40a6551a41731384696f22385f08b2b6c8da7"
      }
    },
    "vscode": {
      "interpreter": {
        "hash": "b3b804b6b7a7d9b475cf928428dd1242016eacc24c47853aaf0f8d1d2228aa39"
      }
    }
  },
  "nbformat": 4,
  "nbformat_minor": 2
}
