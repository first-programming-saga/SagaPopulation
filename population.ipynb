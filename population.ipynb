{
  "cells": [
    {
      "metadata": {},
      "cell_type": "markdown",
      "source": [
        "# 佐賀県の人口推移"
      ]
    },
    {
      "metadata": {
        "trusted": true
      },
      "cell_type": "code",
      "source": [
        "import pandas\n",
        "import requests\n",
        "import io\n",
        "import matplotlib.pyplot as plt\n",
        "import japanize_matplotlib"
      ],
      "execution_count": null,
      "outputs": []
    },
    {
      "metadata": {
        "trusted": true
      },
      "cell_type": "code",
      "source": [
        "#エクセル中の和暦ラベルと西暦の対応付け\n",
        "wareki={'大正9年':1920, '昭和5年':1930, '10年':1935, '15年':1940,\n",
        "        '20年':1945, '25年':1950, '30年':1955, '35年':1960,'40年':1965,\n",
        "        '45年':1970, '50年':1975, '55年':1980, '60年':1985, '平成2年':1990,\n",
        "        '7年':1995, '12年':2000, '17年':2005, '22年':2010, '27年':2015}"
      ],
      "execution_count": null,
      "outputs": []
    },
    {
      "metadata": {},
      "cell_type": "markdown",
      "source": [
        "df中の指定された行のSeriesをプロット"
      ]
    },
    {
      "metadata": {
        "trusted": true
      },
      "cell_type": "code",
      "source": [
        "def plotSub(plotList, df):\n",
        "    for loc, label in plotList:\n",
        "        ser = getSeries(df, loc)\n",
        "        ser.plot(label = label, linewidth = 3)"
      ],
      "execution_count": null,
      "outputs": []
    },
    {
      "metadata": {},
      "cell_type": "markdown",
      "source": [
        "人口推移をSeriesとして返す\n",
        "\n",
        "- 人口を千人単位に変更\n",
        "- 和暦を西暦に変更"
      ]
    },
    {
      "metadata": {
        "trusted": true
      },
      "cell_type": "code",
      "source": [
        "def getSeries(data,row):\n",
        "    vList, yearList = [], []\n",
        "    for k in wareki.keys():\n",
        "        population = data[k][row] / 1000.\n",
        "        year = wareki[k] #和暦から西暦へ\n",
        "        vList.append(population)\n",
        "        yearList.append(year)\n",
        "    return pandas.Series(vList, index = yearList)"
      ],
      "execution_count": null,
      "outputs": []
    },
    {
      "metadata": {},
      "cell_type": "markdown",
      "source": [
        "作図前処理"
      ]
    },
    {
      "metadata": {
        "trusted": true
      },
      "cell_type": "code",
      "source": [
        "def prePlot():\n",
        "    plt.figure(figsize = (15, 15))\n",
        "    plt.rcParams[\"font.size\"] = 32\n",
        "    plt.title('佐賀県の人口 (国勢調査から)') #図タイトル\n",
        "    plt.xlabel('年')\n",
        "    plt.ylabel('人口 (千人)')"
      ],
      "execution_count": null,
      "outputs": []
    },
    {
      "metadata": {},
      "cell_type": "markdown",
      "source": [
        "メイン"
      ]
    },
    {
      "metadata": {
        "trusted": true
      },
      "cell_type": "code",
      "source": [
        "url = 'http://data.bodik.jp/dataset/77e0cc66-c15d-4473-b3df-2664fe8e2e63/resource/8dc71515-526a-4168-866c-05d2cc8dad7b/download/jinkou.xlsx'\n",
        "# url = 'jinkou.xlsx'\n",
        "#Excelの内容をDataFrameへ\n",
        "data = pandas.read_excel(url, header = 3, usecols = 'C:V', \n",
        "    index_col = 19, skiprows = [4, 18, 27], skipfooter = 8) \n",
        "#print(data)\n",
        "prePlot()\n",
        "\n",
        "plotList=[('佐 賀 県', '合計'), ('市', '市部'), ('郡', '郡部')]\n",
        "plotSub(plotList, data)\n",
        "plt.legend(loc = 'best') #凡例\n",
        "\n",
        "plt.savefig('SagaPopulation.pdf') #画像保存\n",
        "plt.show() #画像表示\n"
      ],
      "execution_count": null,
      "outputs": []
    },
    {
      "metadata": {
        "trusted": true
      },
      "cell_type": "code",
      "source": [],
      "execution_count": null,
      "outputs": []
    }
  ],
  "metadata": {
    "kernelspec": {
      "name": "python3",
      "display_name": "Python 3.9.4 64-bit ('3.9.4': pyenv)"
    },
    "language_info": {
      "mimetype": "text/x-python",
      "nbconvert_exporter": "python",
      "name": "python",
      "pygments_lexer": "ipython3",
      "version": "3.9.4",
      "file_extension": ".py",
      "codemirror_mode": {
        "version": 3,
        "name": "ipython"
      }
    },
    "metadata": {
      "interpreter": {
        "hash": "8eac0b877443e672c512fc10f9a40a6551a41731384696f22385f08b2b6c8da7"
      }
    },
    "interpreter": {
      "hash": "8eac0b877443e672c512fc10f9a40a6551a41731384696f22385f08b2b6c8da7"
    }
  },
  "nbformat": 4,
  "nbformat_minor": 2
}