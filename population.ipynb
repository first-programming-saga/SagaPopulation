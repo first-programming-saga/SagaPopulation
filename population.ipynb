{
 "cells": [
  {
   "cell_type": "markdown",
   "metadata": {},
   "source": [
    "# 佐賀県の人口推移"
   ]
  },
  {
   "cell_type": "code",
   "execution_count": 1,
   "metadata": {},
   "outputs": [],
   "source": [
    "import pandas\n",
    "import requests\n",
    "import io\n",
    "import matplotlib.pyplot as plt"
   ]
  },
  {
   "cell_type": "code",
   "execution_count": 2,
   "metadata": {},
   "outputs": [],
   "source": [
    "#エクセル中の和暦ラベルと西暦の対応付け\n",
    "wareki={'大正9年':1920, '昭和5年':1930, '10年':1935, '15年':1940,\n",
    "        '20年':1945, '25年':1950, '30年':1955, '35年':1960,'40年':1965,\n",
    "        '45年':1970, '50年':1975, '55年':1980, '60年':1985, '平成2年':1990,\n",
    "        '7年':1995, '12年':2000, '17年':2005, '22年':2010,'27年':2014}"
   ]
  },
  {
   "cell_type": "markdown",
   "metadata": {},
   "source": [
    "df中の指定された行のSeriesをプロット"
   ]
  },
  {
   "cell_type": "code",
   "execution_count": 3,
   "metadata": {},
   "outputs": [],
   "source": [
    "def plotSub(pList,df):\n",
    "    for loc,label in pList:\n",
    "        ser=evalPop(df,loc)\n",
    "        ser.plot(label=label)"
   ]
  },
  {
   "cell_type": "markdown",
   "metadata": {},
   "source": [
    "人口推移をSeriesとして返す\n",
    "\n",
    "- 人口を千人単位に変更\n",
    "- 和暦を西暦に変更"
   ]
  },
  {
   "cell_type": "code",
   "execution_count": 4,
   "metadata": {},
   "outputs": [],
   "source": [
    "def evalPop(data,serName):\n",
    "    vList,yList=[],[]\n",
    "    for k in wareki.keys():\n",
    "        p = data[k][serName]/1000.\n",
    "        y = wareki[k]#和暦から西暦へ\n",
    "        vList.append(p)\n",
    "        yList.append(y)\n",
    "    return pandas.Series(vList,index = yList)"
   ]
  },
  {
   "cell_type": "markdown",
   "metadata": {},
   "source": [
    "作図前処理"
   ]
  },
  {
   "cell_type": "code",
   "execution_count": 5,
   "metadata": {},
   "outputs": [],
   "source": [
    "def prePlot():\n",
    "    plt.figure(figsize=(10,10))\n",
    "    plt.title('Population in Saga (from National Census)')#図タイトル\n",
    "    plt.xlabel('year')\n",
    "    plt.ylabel('population (thousand)')"
   ]
  },
  {
   "cell_type": "markdown",
   "metadata": {},
   "source": [
    "作図後処理：作図情報などを表示"
   ]
  },
  {
   "cell_type": "code",
   "execution_count": 6,
   "metadata": {},
   "outputs": [],
   "source": [
    "def postPlot(labelList=[]):#引数を省略すると空リスト\n",
    "    #図の書式など\n",
    "    plt.legend(loc='best')#凡例\n",
    "    for x,y,label in labelList:\n",
    "        plt.text(x,y,label,horizontalalignment='center')"
   ]
  },
  {
   "cell_type": "markdown",
   "metadata": {},
   "source": [
    "メイン"
   ]
  },
  {
   "cell_type": "code",
   "execution_count": 7,
   "metadata": {},
   "outputs": [
    {
     "ename": "SyntaxError",
     "evalue": "invalid syntax (<ipython-input-7-d5f8f1cbf879>, line 7)",
     "output_type": "error",
     "traceback": [
      "\u001b[0;36m  File \u001b[0;32m\"<ipython-input-7-d5f8f1cbf879>\"\u001b[0;36m, line \u001b[0;32m7\u001b[0m\n\u001b[0;31m    prePlot():\u001b[0m\n\u001b[0m              ^\u001b[0m\n\u001b[0;31mSyntaxError\u001b[0m\u001b[0;31m:\u001b[0m invalid syntax\n"
     ]
    }
   ],
   "source": [
    "url = 'http://data.bodik.jp/dataset/'\\\n",
    "       '77e0cc66-c15d-4473-b3df-2664fe8e2e63/resource/'\\\n",
    "       '8dc71515-526a-4168-866c-05d2cc8dad7b/download/jinkou.xlsx'\n",
    "\n",
    "data = pandas.read_excel(url,header=3)#Excelの内容をDataFrameへ\n",
    "print(data)\n",
    "prePlot()\n",
    "\n",
    "pList=[(2,'Total'),(3,'Cities'),(4,'Counties')]\n",
    "plotSub(pList,data)\n",
    "labelList=[(1953,400,'1953'),(2005,600,'2005')]\n",
    "\n",
    "postPlot(labelList)\n",
    "\n",
    "plt.savefig('output.png')#画像保存\n",
    "plt.show()#画像表示"
   ]
  },
  {
   "cell_type": "code",
   "execution_count": null,
   "metadata": {},
   "outputs": [],
   "source": []
  }
 ],
 "metadata": {
  "kernelspec": {
   "display_name": "Python 3.6",
   "language": "python",
   "name": "python36"
  },
  "language_info": {
   "codemirror_mode": {
    "name": "ipython",
    "version": 3
   },
   "file_extension": ".py",
   "mimetype": "text/x-python",
   "name": "python",
   "nbconvert_exporter": "python",
   "pygments_lexer": "ipython3",
   "version": "3.6.6"
  }
 },
 "nbformat": 4,
 "nbformat_minor": 2
}
